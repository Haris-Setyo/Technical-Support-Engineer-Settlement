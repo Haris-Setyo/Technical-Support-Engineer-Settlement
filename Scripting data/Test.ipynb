{
  "cells": [
    {
      "cell_type": "markdown",
      "metadata": {
        "colab_type": "text",
        "id": "view-in-github"
      },
      "source": [
        "<a href=\"https://colab.research.google.com/github/Haris-Setyo/Technical-Support-Engineer-Settlement/blob/main/Test.ipynb\" target=\"_parent\"><img src=\"https://colab.research.google.com/assets/colab-badge.svg\" alt=\"Open In Colab\"/></a>"
      ]
    },
    {
      "cell_type": "markdown",
      "metadata": {
        "id": "d6MWejxk2Qmi"
      },
      "source": [
        "# **Scripting data**"
      ]
    },
    {
      "cell_type": "markdown",
      "metadata": {
        "id": "v-SpiVy92f6J"
      },
      "source": [
        "Gunakanlah Python dan pandas untuk menyelesaikan soal dibawah, termasuk penggabungan\n",
        "beberapa file dan pembersihan data untuk memudahkan analisis.\n",
        "Soal Scripting dengan Python Pandas\n",
        "Pertanyaan:\n",
        "Anda diberikan beberapa file CSV yang berisi data transaksi dari berbagai cabang sebuah toko.\n",
        "Setiap file berisi kolom berikut:\n",
        "*   transaction_id\n",
        "*   branch\n",
        "*   product_id\n",
        "*   quantity\n",
        "*   price\n",
        "*   customer_id"
      ]
    },
    {
      "cell_type": "markdown",
      "metadata": {
        "id": "WTtRDYhn3CKG"
      },
      "source": [
        "**Beberapa tugas yang perlu Anda lakukan adalah:**"
      ]
    },
    {
      "cell_type": "markdown",
      "metadata": {
        "id": "uODEm3wD3JX8"
      },
      "source": [
        "Gabungkan semua file CSV menjadi satu DataFrame.\n",
        "Bersihkan data dengan cara berikut:\n",
        "1. Hapus baris yang memiliki nilai NaN pada kolom transaction_id, date, dan customer_id.\n",
        "2. Ubah format kolom date menjadi tipe datetime.\n",
        "3. Hilangkan duplikat berdasarkan transaction_id, pilih data berdasarkan date terbaru.\n",
        "4. Setelah data duplikat dihilangkan, hitung total penjualan per cabang dan simpan\n",
        "hasilnya ke file baru total_sales_per_branch.csv dengan kolom branch dan total.\n",
        "\n",
        "Berikut adalah file CSV yang perlu Anda gabungkan: branch_a.csv, branch_b.csv,branch_c.csv"
      ]
    },
    {
      "cell_type": "code",
      "execution_count": 27,
      "metadata": {},
      "outputs": [],
      "source": [
        "import pandas as pd\n",
        "\n",
        "# Assuming the file is uploaded to Colab\n",
        "dfa = pd.read_csv('branch_a.csv')\n",
        "dfb = pd.read_csv('branch_b.csv')\n",
        "dfc = pd.read_csv('branch_c.csv')\n",
        "\n",
        "frames = [dfa, dfb, dfc]\n",
        "\n",
        "data = pd.concat(frames)"
      ]
    },
    {
      "cell_type": "markdown",
      "metadata": {},
      "source": [
        "1. Hapus baris yang memiliki nilai NaN pada kolom transaction_id, date, dan customer_id."
      ]
    },
    {
      "cell_type": "code",
      "execution_count": 28,
      "metadata": {},
      "outputs": [],
      "source": [
        "clean_data = data.dropna()"
      ]
    },
    {
      "cell_type": "markdown",
      "metadata": {},
      "source": [
        "2. Ubah format kolom date menjadi tipe datetime."
      ]
    },
    {
      "cell_type": "code",
      "execution_count": 29,
      "metadata": {},
      "outputs": [],
      "source": [
        "clean_data.loc[:,'date'] = clean_data['date'].apply(pd.to_datetime)"
      ]
    },
    {
      "cell_type": "markdown",
      "metadata": {},
      "source": [
        "3. Hilangkan duplikat berdasarkan transaction_id, pilih data berdasarkan date terbaru."
      ]
    },
    {
      "cell_type": "code",
      "execution_count": 32,
      "metadata": {},
      "outputs": [],
      "source": [
        "data_sortby = clean_data.sort_values(by='date', ascending=False)\n",
        "\n",
        "data_deldul = data_sortby.drop_duplicates(subset='transaction_id', keep='first')"
      ]
    },
    {
      "cell_type": "markdown",
      "metadata": {},
      "source": [
        "4. Setelah data duplikat dihilangkan, hitung total penjualan per cabang dan simpan\n",
        "hasilnya ke file baru total_sales_per_branch.csv dengan kolom branch dan total."
      ]
    },
    {
      "cell_type": "code",
      "execution_count": 33,
      "metadata": {},
      "outputs": [],
      "source": [
        "result = data_deldul.groupby('branch')['price'].sum()\n",
        "\n",
        "result.to_csv('total_sales_per_branch.csv', index=False)"
      ]
    }
  ],
  "metadata": {
    "colab": {
      "authorship_tag": "ABX9TyNmlv4/PANHynPoASFeFpnB",
      "include_colab_link": true,
      "provenance": []
    },
    "kernelspec": {
      "display_name": "Python 3",
      "name": "python3"
    },
    "language_info": {
      "codemirror_mode": {
        "name": "ipython",
        "version": 3
      },
      "file_extension": ".py",
      "mimetype": "text/x-python",
      "name": "python",
      "nbconvert_exporter": "python",
      "pygments_lexer": "ipython3",
      "version": "3.10.12"
    }
  },
  "nbformat": 4,
  "nbformat_minor": 0
}

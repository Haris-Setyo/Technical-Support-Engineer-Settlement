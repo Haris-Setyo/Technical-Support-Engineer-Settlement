{
  "cells": [
    {
      "cell_type": "markdown",
      "metadata": {
        "colab_type": "text",
        "id": "view-in-github"
      },
      "source": [
        "<a href=\"https://colab.research.google.com/github/Haris-Setyo/Technical-Support-Engineer-Settlement/blob/main/Test.ipynb\" target=\"_parent\"><img src=\"https://colab.research.google.com/assets/colab-badge.svg\" alt=\"Open In Colab\"/></a>"
      ]
    },
    {
      "cell_type": "markdown",
      "metadata": {
        "id": "d6MWejxk2Qmi"
      },
      "source": [
        "# **Scripting data**"
      ]
    },
    {
      "cell_type": "markdown",
      "metadata": {
        "id": "v-SpiVy92f6J"
      },
      "source": [
        "Gunakanlah Python dan pandas untuk menyelesaikan soal dibawah, termasuk penggabungan\n",
        "beberapa file dan pembersihan data untuk memudahkan analisis.\n",
        "Soal Scripting dengan Python Pandas\n",
        "Pertanyaan:\n",
        "Anda diberikan beberapa file CSV yang berisi data transaksi dari berbagai cabang sebuah toko.\n",
        "Setiap file berisi kolom berikut:\n",
        "*   transaction_id\n",
        "*   branch\n",
        "*   product_id\n",
        "*   quantity\n",
        "*   price\n",
        "*   customer_id"
      ]
    },
    {
      "cell_type": "markdown",
      "metadata": {
        "id": "WTtRDYhn3CKG"
      },
      "source": [
        "**Beberapa tugas yang perlu Anda lakukan adalah:**"
      ]
    },
    {
      "cell_type": "markdown",
      "metadata": {
        "id": "uODEm3wD3JX8"
      },
      "source": [
        "Gabungkan semua file CSV menjadi satu DataFrame.\n",
        "Bersihkan data dengan cara berikut:\n",
        "1. Hapus baris yang memiliki nilai NaN pada kolom transaction_id, date, dan customer_id.\n",
        "2. Ubah format kolom date menjadi tipe datetime.\n",
        "3. Hilangkan duplikat berdasarkan transaction_id, pilih data berdasarkan date terbaru.\n",
        "4. Setelah data duplikat dihilangkan, hitung total penjualan per cabang dan simpan\n",
        "hasilnya ke file baru total_sales_per_branch.csv dengan kolom branch dan total.\n",
        "Berikut adalah file CSV yang perlu Anda gabungkan: branch_a.csv, branch_b.csv,\n",
        "branch_c.csv"
      ]
    },
    {
      "cell_type": "code",
      "execution_count": 9,
      "metadata": {
        "id": "-u6PCVuU3lGz"
      },
      "outputs": [
        {
          "ename": "ModuleNotFoundError",
          "evalue": "No module named 'pandas'",
          "output_type": "error",
          "traceback": [
            "\u001b[0;31m---------------------------------------------------------------------------\u001b[0m",
            "\u001b[0;31mModuleNotFoundError\u001b[0m                       Traceback (most recent call last)",
            "Cell \u001b[0;32mIn[9], line 1\u001b[0m\n\u001b[0;32m----> 1\u001b[0m \u001b[38;5;28;01mimport\u001b[39;00m \u001b[38;5;21;01mpandas\u001b[39;00m \u001b[38;5;28;01mas\u001b[39;00m \u001b[38;5;21;01mpd\u001b[39;00m\n\u001b[1;32m      3\u001b[0m df \u001b[38;5;241m=\u001b[39m pd\u001b[38;5;241m.\u001b[39mread_csv(\u001b[38;5;124m'\u001b[39m\u001b[38;5;124mbranch_a.csv\u001b[39m\u001b[38;5;124m'\u001b[39m)\n\u001b[1;32m      4\u001b[0m \u001b[38;5;28mprint\u001b[39m(df\u001b[38;5;241m.\u001b[39mhead())\n",
            "\u001b[0;31mModuleNotFoundError\u001b[0m: No module named 'pandas'"
          ]
        }
      ],
      "source": [
        "import pandas as pd\n",
        "\n",
        "df = pd.read_csv('branch_a.csv')\n",
        "print(df.head())"
      ]
    }
  ],
  "metadata": {
    "colab": {
      "authorship_tag": "ABX9TyNmlv4/PANHynPoASFeFpnB",
      "include_colab_link": true,
      "provenance": []
    },
    "kernelspec": {
      "display_name": "Python 3",
      "name": "python3"
    },
    "language_info": {
      "codemirror_mode": {
        "name": "ipython",
        "version": 3
      },
      "file_extension": ".py",
      "mimetype": "text/x-python",
      "name": "python",
      "nbconvert_exporter": "python",
      "pygments_lexer": "ipython3",
      "version": "3.11.9"
    }
  },
  "nbformat": 4,
  "nbformat_minor": 0
}

{
  "nbformat": 4,
  "nbformat_minor": 0,
  "metadata": {
    "colab": {
      "provenance": [],
      "authorship_tag": "ABX9TyNmlv4/PANHynPoASFeFpnB",
      "include_colab_link": true
    },
    "kernelspec": {
      "name": "python3",
      "display_name": "Python 3"
    },
    "language_info": {
      "name": "python"
    }
  },
  "cells": [
    {
      "cell_type": "markdown",
      "metadata": {
        "id": "view-in-github",
        "colab_type": "text"
      },
      "source": [
        "<a href=\"https://colab.research.google.com/github/Haris-Setyo/Technical-Support-Engineer-Settlement/blob/main/Test.ipynb\" target=\"_parent\"><img src=\"https://colab.research.google.com/assets/colab-badge.svg\" alt=\"Open In Colab\"/></a>"
      ]
    },
    {
      "cell_type": "markdown",
      "source": [
        "# **Scripting data**"
      ],
      "metadata": {
        "id": "d6MWejxk2Qmi"
      }
    },
    {
      "cell_type": "markdown",
      "source": [
        "Gunakanlah Python dan pandas untuk menyelesaikan soal dibawah, termasuk penggabungan\n",
        "beberapa file dan pembersihan data untuk memudahkan analisis.\n",
        "Soal Scripting dengan Python Pandas\n",
        "Pertanyaan:\n",
        "Anda diberikan beberapa file CSV yang berisi data transaksi dari berbagai cabang sebuah toko.\n",
        "Setiap file berisi kolom berikut:\n",
        "*   transaction_id\n",
        "*   branch\n",
        "*   product_id\n",
        "*   quantity\n",
        "*   price\n",
        "*   customer_id"
      ],
      "metadata": {
        "id": "v-SpiVy92f6J"
      }
    },
    {
      "cell_type": "markdown",
      "source": [
        "**Beberapa tugas yang perlu Anda lakukan adalah:**"
      ],
      "metadata": {
        "id": "WTtRDYhn3CKG"
      }
    },
    {
      "cell_type": "markdown",
      "source": [
        "Gabungkan semua file CSV menjadi satu DataFrame.\n",
        "Bersihkan data dengan cara berikut:\n",
        "1. Hapus baris yang memiliki nilai NaN pada kolom transaction_id, date, dan customer_id.\n",
        "2. Ubah format kolom date menjadi tipe datetime.\n",
        "3. Hilangkan duplikat berdasarkan transaction_id, pilih data berdasarkan date terbaru.\n",
        "4. Setelah data duplikat dihilangkan, hitung total penjualan per cabang dan simpan\n",
        "hasilnya ke file baru total_sales_per_branch.csv dengan kolom branch dan total.\n",
        "Berikut adalah file CSV yang perlu Anda gabungkan: branch_a.csv, branch_b.csv,\n",
        "branch_c.csv"
      ],
      "metadata": {
        "id": "uODEm3wD3JX8"
      }
    },
    {
      "cell_type": "code",
      "source": [],
      "metadata": {
        "id": "-u6PCVuU3lGz"
      },
      "execution_count": null,
      "outputs": []
    }
  ]
}
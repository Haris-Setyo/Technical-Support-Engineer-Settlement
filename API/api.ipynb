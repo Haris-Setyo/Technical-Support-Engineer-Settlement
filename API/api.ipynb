{
 "cells": [
  {
   "cell_type": "markdown",
   "metadata": {},
   "source": [
    "Buatlah Table dengan kolom \\\n",
    "a. “Name”\\\n",
    "b. “Web pages”\\\n",
    "c. “Country”\\\n",
    "d. “Domains”\\\n",
    "e. “State Province”\\\n",
    "Dari api berikut :\\\n",
    "curl --location 'http://universities.hipolabs.com/search?country=United%2BStates'\\\n",
    "Buatlah scripting tersebut menggunakan python dengan library pandas.\\\n",
    "Buatlah parameter pencarian menggunakan python dengan kata kunci untuk memfilter “country”.\\\n",
    "Buatlah scripting untuk filtering data yang tidak memiliki data “state-province”."
   ]
  },
  {
   "cell_type": "code",
   "execution_count": 1,
   "metadata": {},
   "outputs": [
    {
     "name": "stdout",
     "output_type": "stream",
     "text": [
      "Daftar universitas di United States dengan tanpa None State/Province:\n",
      "                                               Name  \\\n",
      "0           University of Pittsburgh Medical Center   \n",
      "1      The University of Texas at Rio Grande Valley   \n",
      "2                            Utah Valley University   \n",
      "3                    Florida Polytechnic University   \n",
      "4                        College of Southern Nevada   \n",
      "..                                              ...   \n",
      "90  State University of New York College at Oneonta   \n",
      "91                        University of Mount Olive   \n",
      "92                         The University of Olivet   \n",
      "93                           Westminster University   \n",
      "94                             Dominican University   \n",
      "\n",
      "                    Web pages        Country             Domains  \\\n",
      "0       https://www.upmc.com/  United States  upmc.edu, upmc.com   \n",
      "1      https://www.utrgv.edu/  United States           utrgv.edu   \n",
      "2            https://uvu.edu/  United States             uvu.edu   \n",
      "3    https://floridapoly.edu/  United States     floridapoly.edu   \n",
      "4        https://www.csn.edu/  United States             csn.edu   \n",
      "..                        ...            ...                 ...   \n",
      "90  https://suny.oneonta.edu/  United States         oneonta.edu   \n",
      "91           https://umo.edu/  United States             umo.edu   \n",
      "92   https://www.uolivet.edu/  United States   olivetcollege.edu   \n",
      "93  https://westminsteru.edu/  United States    westminsteru.edu   \n",
      "94       https://www.dom.edu/  United States             dom.edu   \n",
      "\n",
      "          State Province  \n",
      "0           Pennsylvania  \n",
      "1                  Texas  \n",
      "2                   Utah  \n",
      "3                Florida  \n",
      "4                     NV  \n",
      "..                   ...  \n",
      "90              New York  \n",
      "91        North Carolina  \n",
      "92              Michigan  \n",
      "93  Salt Lake City, Utah  \n",
      "94              Illinois  \n",
      "\n",
      "[95 rows x 5 columns]\n"
     ]
    }
   ],
   "source": [
    "import requests\n",
    "import pandas as pd\n",
    "\n",
    "def filter_universities_with_state_province(country):\n",
    "    # URL dari API\n",
    "    url = f'http://universities.hipolabs.com/search?country={country}'\n",
    "\n",
    "    # Mendapatkan data dari API\n",
    "    response = requests.get(url)\n",
    "    data = response.json()\n",
    "\n",
    "    # Menyiapkan list kosong untuk menyimpan data\n",
    "    table_data = []\n",
    "\n",
    "    # Looping untuk mengambil data dari setiap universitas\n",
    "    for university in data:\n",
    "        name = university.get('name', '')\n",
    "        web_pages = ', '.join(university.get('web_pages', []))\n",
    "        country = university.get('country', '')\n",
    "        domains = ', '.join(university.get('domains', []))\n",
    "        state_province = university.get('state-province', '')\n",
    "\n",
    "        # Memfilter universitas yang state-province-nya tidak None\n",
    "        if state_province is not None:\n",
    "            # Menambahkan data ke dalam list sebagai tuple\n",
    "            table_data.append((name, web_pages, country, domains, state_province))\n",
    "\n",
    "    # Membuat DataFrame menggunakan pandas\n",
    "    df = pd.DataFrame(table_data, columns=['Name', 'Web pages', 'Country', 'Domains', 'State Province'])\n",
    "\n",
    "    return df\n",
    "\n",
    "# mencari universitas di Amerika Serikat\n",
    "country_to_search = 'United States'\n",
    "df_filtered_universities = filter_universities_with_state_province(country_to_search)\n",
    "\n",
    "# Menampilkan hasil filter dengan State Province tanpa None\n",
    "print(f\"Daftar universitas di {country_to_search} dengan tanpa None State/Province:\")\n",
    "print(df_filtered_universities)"
   ]
  }
 ],
 "metadata": {
  "kernelspec": {
   "display_name": "Python 3",
   "language": "python",
   "name": "python3"
  },
  "language_info": {
   "codemirror_mode": {
    "name": "ipython",
    "version": 3
   },
   "file_extension": ".py",
   "mimetype": "text/x-python",
   "name": "python",
   "nbconvert_exporter": "python",
   "pygments_lexer": "ipython3",
   "version": "3.10.12"
  }
 },
 "nbformat": 4,
 "nbformat_minor": 2
}
